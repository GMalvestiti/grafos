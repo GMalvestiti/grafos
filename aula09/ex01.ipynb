{
  "nbformat": 4,
  "nbformat_minor": 0,
  "metadata": {
    "colab": {
      "provenance": []
    },
    "kernelspec": {
      "name": "python3",
      "display_name": "Python 3"
    },
    "language_info": {
      "name": "python"
    }
  },
  "cells": [
    {
      "cell_type": "code",
      "execution_count": 1,
      "metadata": {
        "colab": {
          "base_uri": "https://localhost:8080/"
        },
        "id": "ONp3PbQtDhXO",
        "outputId": "53be7c07-a0cd-494f-e808-5603d75eff45"
      },
      "outputs": [
        {
          "output_type": "stream",
          "name": "stdout",
          "text": [
            "Operário 1 -> Máquina 1 (Custo: 3)\n",
            "Operário 2 -> Máquina 3 (Custo: 2)\n",
            "Operário 3 -> Máquina 2 (Custo: 3)\n",
            "Custo Total: 8\n"
          ]
        }
      ],
      "source": [
        "import numpy as np\n",
        "from scipy.optimize import linear_sum_assignment\n",
        "\n",
        "# Definir a matriz de custos\n",
        "custos = np.array([\n",
        "    [3, 5, 6],\n",
        "    [5, 4, 2],\n",
        "    [2, 3, 4]\n",
        "])\n",
        "\n",
        "# Aplicar o método húngaro para encontrar a atribuição de menor custo\n",
        "linhas, colunas = linear_sum_assignment(custos)\n",
        "\n",
        "# Imprimir a atribuição de menor custo\n",
        "for i, operario in enumerate(linhas):\n",
        "    maquina = colunas[i]\n",
        "    custo = custos[operario, maquina]\n",
        "    print(f\"Operário {operario + 1} -> Máquina {maquina + 1} (Custo: {custo})\")\n",
        "\n",
        "# Imprimir o custo total da atribuição\n",
        "custo_total = custos[linhas, colunas].sum()\n",
        "print(f\"Custo Total: {custo_total}\")"
      ]
    }
  ]
}