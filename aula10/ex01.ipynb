{
  "nbformat": 4,
  "nbformat_minor": 0,
  "metadata": {
    "colab": {
      "provenance": []
    },
    "kernelspec": {
      "name": "python3",
      "display_name": "Python 3"
    },
    "language_info": {
      "name": "python"
    }
  },
  "cells": [
    {
      "cell_type": "code",
      "execution_count": 1,
      "metadata": {
        "colab": {
          "base_uri": "https://localhost:8080/"
        },
        "id": "1rDU5tFO7KXX",
        "outputId": "4a11c2e6-64a5-459a-9842-1ac7eebd9942"
      },
      "outputs": [
        {
          "output_type": "stream",
          "name": "stdout",
          "text": [
            "cueca para calça, sapatos\n",
            "meias para sapatos\n",
            "calça para sapatos, cinto\n",
            "cinto para paletó\n",
            "camisa para cinto, gravata, paletó\n",
            "relógio sem conexões\n"
          ]
        }
      ],
      "source": [
        "from collections import defaultdict\n",
        "\n",
        "# Função para criar o grafo\n",
        "def create_graph():\n",
        "    graph = defaultdict(list)\n",
        "\n",
        "    # Adicionando as arestas ao grafo\n",
        "    graph['cueca'].append('calça')\n",
        "    graph['cueca'].append('sapatos')\n",
        "    graph['meias'].append('sapatos')\n",
        "    graph['calça'].append('sapatos')\n",
        "    graph['calça'].append('cinto')\n",
        "    graph['cinto'].append('paletó')\n",
        "    graph['camisa'].append('cinto')\n",
        "    graph['camisa'].append('gravata')\n",
        "    graph['camisa'].append('paletó')\n",
        "\n",
        "    # \"relógio\" sem conexões\n",
        "    graph['relógio'] = []\n",
        "\n",
        "    return graph\n",
        "\n",
        "# Função para mostrar o grafo\n",
        "def show_graph(graph):\n",
        "    for item, dependencies in graph.items():\n",
        "        if dependencies:\n",
        "            print(f\"{item} para {', '.join(dependencies)}\")\n",
        "        else:\n",
        "            print(f\"{item} sem conexões\")\n",
        "\n",
        "if __name__ == \"__main__\":\n",
        "    graph = create_graph()\n",
        "    show_graph(graph)"
      ]
    }
  ]
}